{
 "cells": [
  {
   "cell_type": "code",
   "execution_count": 40,
   "metadata": {},
   "outputs": [
    {
     "data": {
      "text/html": [
       "<style>.container { width:100% !important; }</style>"
      ],
      "text/plain": [
       "<IPython.core.display.HTML object>"
      ]
     },
     "metadata": {},
     "output_type": "display_data"
    }
   ],
   "source": [
    "%%HTML\n",
    "<style>.container { width:100% !important; }</style>"
   ]
  },
  {
   "cell_type": "code",
   "execution_count": 13,
   "metadata": {},
   "outputs": [],
   "source": [
    "#load data\n",
    "import pandas as pd\n",
    "from sklearn.model_selection import train_test_split\n",
    "from sklearn.metrics import mean_absolute_error\n",
    "from sklearn.preprocessing import Imputer\n",
    "# read data and provide DataFrame\n",
    "melbourne_data = pd.read_csv('./melb_data.csv')\n",
    "# select features and labels\n",
    "y = melbourne_data.Price\n",
    "melbourne_predictors = ['Rooms', 'Bathroom', 'Landsize', 'BuildingArea', \n",
    "                        'YearBuilt', 'Lattitude', 'Longtitude']\n",
    "X = melbourne_data[melbourne_predictors]\n",
    "#preprocess data\n",
    "my_imputer = Imputer()\n",
    "imputed_X = my_imputer.fit_transform(X)\n",
    "X = pd.DataFrame(imputed_X, columns=X.columns)\n",
    "#split dataset\n",
    "train_X, val_X, train_y, val_y = train_test_split(X, y, random_state = 0)"
   ]
  },
  {
   "cell_type": "markdown",
   "metadata": {},
   "source": [
    "## Measuring error (metrics)\n",
    "http://scikit-learn.org/stable/modules/model_evaluation.html"
   ]
  },
  {
   "cell_type": "markdown",
   "metadata": {},
   "source": [
    "## Decision tree\n",
    "http://scikit-learn.org/stable/modules/tree.html"
   ]
  },
  {
   "cell_type": "code",
   "execution_count": 11,
   "metadata": {},
   "outputs": [
    {
     "data": {
      "text/html": [
       "<iframe width=\"854\" height=\"480\" src=\"https://www.youtube.com/embed/eKD5gxPPeY0\" frameborder=\"0\" allow=\"autoplay; encrypted-media\" allowfullscreen></iframe>"
      ],
      "text/plain": [
       "<IPython.core.display.HTML object>"
      ]
     },
     "metadata": {},
     "output_type": "display_data"
    }
   ],
   "source": [
    "%%HTML\n",
    "<iframe width=\"854\" height=\"480\" src=\"https://www.youtube.com/embed/eKD5gxPPeY0\" frameborder=\"0\" allow=\"autoplay; encrypted-media\" allowfullscreen></iframe>"
   ]
  },
  {
   "cell_type": "code",
   "execution_count": 14,
   "metadata": {},
   "outputs": [
    {
     "name": "stdout",
     "output_type": "stream",
     "text": [
      "274882.92360838153\n"
     ]
    }
   ],
   "source": [
    "from sklearn.tree import DecisionTreeRegressor\n",
    "# Define model\n",
    "tree_model = DecisionTreeRegressor()\n",
    "# Fit model\n",
    "tree_model.fit(train_X, train_y)\n",
    "\n",
    "# get predicted prices on validation data\n",
    "val_predictions = tree_model.predict(val_X)\n",
    "print(mean_absolute_error(val_y, val_predictions))"
   ]
  },
  {
   "cell_type": "code",
   "execution_count": 16,
   "metadata": {},
   "outputs": [
    {
     "name": "stdout",
     "output_type": "stream",
     "text": [
      "Making predictions for the following 5 houses:\n",
      "       Rooms  Bathroom  Landsize  BuildingArea    YearBuilt  Lattitude  \\\n",
      "3008     1.0       1.0       0.0     42.000000  1970.000000  -37.87840   \n",
      "9189     2.0       1.0     308.0    151.220219  1965.879996  -37.79080   \n",
      "5053     5.0       3.0      98.0    151.220219  1965.879996  -37.78430   \n",
      "8264     3.0       3.0     506.0    195.000000  2000.000000  -37.80500   \n",
      "15373    4.0       2.0     785.0    151.220219  1965.879996  -37.85297   \n",
      "\n",
      "       Longtitude  \n",
      "3008    144.98640  \n",
      "9189    144.87170  \n",
      "5053    144.89390  \n",
      "8264    144.94480  \n",
      "15373   145.23815  \n",
      "The predictions are\n",
      "[ 451000.  650000.  930000. 1575000. 1214000.]\n",
      "Real values are\n",
      "[ 340000.  705000. 1000000. 1260000.  850000.]\n",
      "Error: 183000.0\n"
     ]
    },
    {
     "name": "stderr",
     "output_type": "stream",
     "text": [
      "/home/artem/.virtualenvs/ML/lib/python3.6/site-packages/ipykernel_launcher.py:8: FutureWarning: Method .as_matrix will be removed in a future version. Use .values instead.\n",
      "  \n"
     ]
    }
   ],
   "source": [
    "tree_model.fit(train_X, train_y)\n",
    "print(\"Making predictions for the following 5 houses:\")\n",
    "print(val_X.head())\n",
    "print(\"The predictions are\")\n",
    "predicted_home_prices = tree_model.predict(val_X.head())\n",
    "print(predicted_home_prices)\n",
    "print(\"Real values are\")\n",
    "print(val_y.head().as_matrix())\n",
    "print(\"Error:\", mean_absolute_error(val_y.head(), predicted_home_prices))"
   ]
  },
  {
   "cell_type": "code",
   "execution_count": 17,
   "metadata": {},
   "outputs": [
    {
     "name": "stdout",
     "output_type": "stream",
     "text": [
      "Max leaf nodes: 5  \t\t Mean Absolute Error:  376610\n",
      "Max leaf nodes: 50  \t\t Mean Absolute Error:  280628\n",
      "Max leaf nodes: 500  \t\t Mean Absolute Error:  257667\n",
      "Max leaf nodes: 5000  \t\t Mean Absolute Error:  269649\n"
     ]
    }
   ],
   "source": [
    "def get_mae(max_leaf_nodes, predictors_train, predictors_val, targ_train, targ_val):\n",
    "    model = DecisionTreeRegressor(max_leaf_nodes=max_leaf_nodes, random_state=0)\n",
    "    model.fit(predictors_train, targ_train)\n",
    "    preds_val = model.predict(predictors_val)\n",
    "    mae = mean_absolute_error(targ_val, preds_val)\n",
    "    return(mae)\n",
    "\n",
    "# compare MAE with differing values of max_leaf_nodes\n",
    "for max_leaf_nodes in [5, 50, 500, 5000]:\n",
    "    my_mae = get_mae(max_leaf_nodes, train_X, val_X, train_y, val_y)\n",
    "    print(\"Max leaf nodes: %d  \\t\\t Mean Absolute Error:  %d\" %(max_leaf_nodes, my_mae))"
   ]
  },
  {
   "cell_type": "markdown",
   "metadata": {},
   "source": [
    "## Random Forest\n",
    "http://scikit-learn.org/stable/modules/ensemble.html#random-forests"
   ]
  },
  {
   "cell_type": "code",
   "execution_count": 18,
   "metadata": {},
   "outputs": [
    {
     "name": "stdout",
     "output_type": "stream",
     "text": [
      "RandomForestRegressor(bootstrap=True, criterion='mse', max_depth=None,\n",
      "           max_features='auto', max_leaf_nodes=None,\n",
      "           min_impurity_decrease=0.0, min_impurity_split=None,\n",
      "           min_samples_leaf=1, min_samples_split=2,\n",
      "           min_weight_fraction_leaf=0.0, n_estimators=10, n_jobs=1,\n",
      "           oob_score=False, random_state=None, verbose=0, warm_start=False)\n",
      "227352.7596081369\n"
     ]
    }
   ],
   "source": [
    "from sklearn.ensemble import RandomForestRegressor\n",
    "forest_model = RandomForestRegressor()\n",
    "print(forest_model)\n",
    "forest_model.fit(train_X, train_y)\n",
    "melb_preds = forest_model.predict(val_X)\n",
    "print(mean_absolute_error(val_y, melb_preds))"
   ]
  },
  {
   "cell_type": "code",
   "execution_count": 19,
   "metadata": {},
   "outputs": [
    {
     "name": "stdout",
     "output_type": "stream",
     "text": [
      "218411.75402604655\n"
     ]
    }
   ],
   "source": [
    "from sklearn.ensemble import RandomForestRegressor\n",
    "forest_model = RandomForestRegressor(n_estimators=100)\n",
    "forest_model.fit(train_X, train_y)\n",
    "melb_preds = forest_model.predict(val_X)\n",
    "print(mean_absolute_error(val_y, melb_preds))"
   ]
  },
  {
   "cell_type": "markdown",
   "metadata": {},
   "source": [
    "## Gradient boosting regression\n",
    "http://scikit-learn.org/stable/modules/ensemble.html#regression"
   ]
  },
  {
   "cell_type": "code",
   "execution_count": 20,
   "metadata": {},
   "outputs": [
    {
     "name": "stdout",
     "output_type": "stream",
     "text": [
      "230864.60732162194\n"
     ]
    }
   ],
   "source": [
    "from sklearn.ensemble import GradientBoostingRegressor\n",
    "params = {'n_estimators': 100, 'max_depth': 8, 'min_samples_split': 0.05,}\n",
    "#params = {'n_estimators': 100, 'max_depth': 8, 'min_samples_split': 0.05, 'subsample': 0.8, 'max_features': 'sqrt', 'min_samples_leaf': 50,}\n",
    "gbr_model = GradientBoostingRegressor(**params)\n",
    "gbr_model.fit(train_X, train_y)\n",
    "gbr_preds = gbr_model.predict(val_X)\n",
    "print(mean_absolute_error(val_y, gbr_preds))"
   ]
  },
  {
   "cell_type": "markdown",
   "metadata": {},
   "source": [
    "## XGBoost\n",
    "Leader of Kaggle competitions\n",
    "```\n",
    "pip install xgboost\n",
    "```\n",
    "[Parameters description](http://xgboost.readthedocs.io/en/latest//parameter.html)\n",
    "\n",
    "[Scikit-Learn API](http://xgboost.readthedocs.io/en/latest/python/python_api.html#module-xgboost.sklearn)"
   ]
  },
  {
   "cell_type": "code",
   "execution_count": 22,
   "metadata": {},
   "outputs": [
    {
     "name": "stdout",
     "output_type": "stream",
     "text": [
      "217948.45564932594\n"
     ]
    }
   ],
   "source": [
    "from xgboost import XGBRegressor\n",
    "xgb_model = XGBRegressor(**params)\n",
    "xgb_model.fit(train_X, train_y)\n",
    "xgb_preds = xgb_model.predict(val_X)\n",
    "print(mean_absolute_error(val_y, xgb_preds))"
   ]
  },
  {
   "cell_type": "markdown",
   "metadata": {},
   "source": [
    "## LightGBM\n",
    "Much faster than XGBoost\n",
    "```\n",
    "pip install lightgbm\n",
    "```\n",
    "[Explanation](https://www.analyticsvidhya.com/blog/2017/06/which-algorithm-takes-the-crown-light-gbm-vs-xgboost/)\n",
    "\n",
    "[Scikit-Learn API](http://lightgbm.readthedocs.io/en/latest/Python-API.html#scikit-learn-api)"
   ]
  },
  {
   "cell_type": "code",
   "execution_count": 24,
   "metadata": {},
   "outputs": [
    {
     "name": "stdout",
     "output_type": "stream",
     "text": [
      "218555.58648548656\n"
     ]
    }
   ],
   "source": [
    "from lightgbm import LGBMRegressor\n",
    "lgb_model = LGBMRegressor()\n",
    "lgb_model.fit(train_X, train_y)\n",
    "lgb_preds = lgb_model.predict(val_X)\n",
    "print(mean_absolute_error(val_y, lgb_preds))"
   ]
  },
  {
   "cell_type": "code",
   "execution_count": 25,
   "metadata": {},
   "outputs": [],
   "source": [
    "import numpy as np\n",
    "import matplotlib.pyplot as plt"
   ]
  },
  {
   "cell_type": "code",
   "execution_count": 26,
   "metadata": {},
   "outputs": [
    {
     "data": {
      "text/plain": [
       "Text(0,0.5,'Deviance')"
      ]
     },
     "execution_count": 26,
     "metadata": {},
     "output_type": "execute_result"
    },
    {
     "data": {
      "image/png": "[encoded data removed]",
      "text/plain": [
       "<Figure size 864x432 with 1 Axes>"
      ]
     },
     "metadata": {},
     "output_type": "display_data"
    }
   ],
   "source": [
    "# Plot training deviance\n",
    "\n",
    "# compute test set deviance\n",
    "test_score = np.zeros((params['n_estimators'],), dtype=np.float64)\n",
    "\n",
    "for i, y_pred in enumerate(gbr_model.staged_predict(val_X)):\n",
    "    test_score[i] = gbr_model.loss_(val_y, y_pred)\n",
    "\n",
    "plt.figure(figsize=(12, 6))\n",
    "plt.title('Deviance')\n",
    "plt.plot(np.arange(params['n_estimators']) + 1, gbr_model.train_score_, 'b-',\n",
    "         label='Training Set Deviance')\n",
    "plt.plot(np.arange(params['n_estimators']) + 1, test_score, 'r-',\n",
    "         label='Validation Set Deviance')\n",
    "plt.legend(loc='upper right')\n",
    "plt.xlabel('Boosting Iterations')\n",
    "plt.ylabel('Deviance')"
   ]
  },
  {
   "cell_type": "markdown",
   "metadata": {},
   "source": [
    "## Feature importance\n",
    "\n",
    "The feature of tree-based algorithms."
   ]
  },
  {
   "cell_type": "code",
   "execution_count": 27,
   "metadata": {},
   "outputs": [],
   "source": [
    "# Plot feature importance\n",
    "def plotFeatureImportance(feature_importance, column_names):\n",
    "    # make importances relative to max importance\n",
    "    feature_importance = 100.0 * (feature_importance / feature_importance.max())\n",
    "    sorted_idx = np.argsort(feature_importance)\n",
    "    pos = np.arange(sorted_idx.shape[0]) + .5\n",
    "    plt.figure(figsize=(12, 6))\n",
    "    plt.barh(pos, feature_importance[sorted_idx], align='center')\n",
    "    plt.yticks(pos, column_names[sorted_idx])\n",
    "    plt.xlabel('Relative Importance')\n",
    "    plt.title('Variable Importance')\n",
    "    plt.show()"
   ]
  },
  {
   "cell_type": "code",
   "execution_count": 28,
   "metadata": {
    "scrolled": true
   },
   "outputs": [
    {
     "data": {
      "image/png": "[encoded data removed]",
      "text/plain": [
       "<Figure size 864x432 with 1 Axes>"
      ]
     },
     "metadata": {},
     "output_type": "display_data"
    }
   ],
   "source": [
    "plotFeatureImportance(gbr_model.feature_importances_, train_X.columns)"
   ]
  },
  {
   "cell_type": "code",
   "execution_count": 29,
   "metadata": {
    "scrolled": true
   },
   "outputs": [
    {
     "data": {
      "image/png": "[encoded data removed]",
      "text/plain": [
       "<Figure size 864x432 with 1 Axes>"
      ]
     },
     "metadata": {},
     "output_type": "display_data"
    }
   ],
   "source": [
    "plotFeatureImportance(tree_model.feature_importances_, train_X.columns)"
   ]
  },
  {
   "cell_type": "code",
   "execution_count": 37,
   "metadata": {
    "scrolled": true
   },
   "outputs": [
    {
     "data": {
      "image/png": "[encoded data removed]",
      "text/plain": [
       "<Figure size 864x432 with 1 Axes>"
      ]
     },
     "metadata": {},
     "output_type": "display_data"
    }
   ],
   "source": [
    "plotFeatureImportance(xgb_model.feature_importances_, train_X.columns)"
   ]
  },
  {
   "cell_type": "code",
   "execution_count": 38,
   "metadata": {},
   "outputs": [
    {
     "data": {
      "image/png": "[encoded data removed]",
      "text/plain": [
       "<Figure size 864x432 with 1 Axes>"
      ]
     },
     "metadata": {},
     "output_type": "display_data"
    }
   ],
   "source": [
    "plotFeatureImportance(lgb_model.feature_importances_, train_X.columns)"
   ]
  },
  {
   "cell_type": "markdown",
   "metadata": {},
   "source": [
    "## Feature engineering\n",
    "\n",
    "Important part of solving ML problem. It is the art of choosing right features and creating new features using domain knowledge and statistical math.\n",
    "Simple examples:\n",
    "- you know linear dimensions - add area column\n",
    "- you know date - add age column\n",
    "- try to split continuous data to categorical values ([small, medium, high])\n",
    "- split date to components ([day_of_week, day_of_month, hour_of_day])"
   ]
  },
  {
   "cell_type": "code",
   "execution_count": 31,
   "metadata": {},
   "outputs": [
    {
     "name": "stdout",
     "output_type": "stream",
     "text": [
      "0    1965.879996\n",
      "1    1900.000000\n",
      "2    1900.000000\n",
      "3    1965.879996\n",
      "4    2014.000000\n",
      "Name: YearBuilt, dtype: float64\n",
      "0     53\n",
      "1    118\n",
      "2    118\n",
      "3     53\n",
      "4      4\n",
      "Name: Age, dtype: int32\n",
      "Index(['Rooms', 'Bathroom', 'Landsize', 'BuildingArea', 'Age', 'Lattitude',\n",
      "       'Longtitude'],\n",
      "      dtype='object')\n",
      "217398.75069648292\n"
     ]
    }
   ],
   "source": [
    "#so lets add age column\n",
    "print(X.head().YearBuilt)\n",
    "newX = X.rename(columns={'YearBuilt': 'Age'}).astype({'Age': 'int32'})\n",
    "newX.Age = 2018 - newX.Age\n",
    "print(newX.head().Age)\n",
    "#print(melbourne_data.head().Car)\n",
    "#newX = newX.join(melbourne_data.Car)\n",
    "#newX = newX.drop('Bathroom', axis = 1)\n",
    "print(newX.columns)\n",
    "#split to train/test\n",
    "new_train_X, new_val_X, new_train_y, new_val_y = train_test_split(newX, y, random_state = 0)\n",
    "#run\n",
    "new_xgb_model = XGBRegressor(**params)\n",
    "new_xgb_model.fit(new_train_X, new_train_y)\n",
    "new_xgb_preds = new_xgb_model.predict(new_val_X)\n",
    "print(mean_absolute_error(new_val_y, new_xgb_preds))"
   ]
  },
  {
   "cell_type": "code",
   "execution_count": 32,
   "metadata": {},
   "outputs": [
    {
     "data": {
      "image/png": "[encoded data removed]",
      "text/plain": [
       "<Figure size 864x432 with 1 Axes>"
      ]
     },
     "metadata": {},
     "output_type": "display_data"
    }
   ],
   "source": [
    "plotFeatureImportance(new_xgb_model.feature_importances_, new_train_X.columns)"
   ]
  },
  {
   "cell_type": "code",
   "execution_count": 33,
   "metadata": {},
   "outputs": [
    {
     "name": "stdout",
     "output_type": "stream",
     "text": [
      "count                     18395\n",
      "unique                        8\n",
      "top       Southern Metropolitan\n",
      "freq                       6343\n",
      "Name: Regionname, dtype: object\n",
      "Index(['Rooms', 'Bathroom', 'Landsize', 'BuildingArea', 'Age', 'Lattitude',\n",
      "       'Longtitude', 'Region'],\n",
      "      dtype='object')\n",
      "204813.3156120896\n"
     ]
    }
   ],
   "source": [
    "#try to add categorized Region\n",
    "from sklearn.preprocessing import LabelEncoder\n",
    "le = LabelEncoder()\n",
    "print(melbourne_data.Regionname.describe())\n",
    "classifiedRegions = le.fit_transform(melbourne_data.Regionname.astype('str'))\n",
    "newX['Region'] = classifiedRegions\n",
    "print(newX.columns)\n",
    "#split to train/test\n",
    "new_train_X, new_val_X, new_train_y, new_val_y = train_test_split(newX, y, random_state = 0)\n",
    "#run\n",
    "new_xgb_model = XGBRegressor(**params)\n",
    "new_xgb_model.fit(new_train_X, new_train_y)\n",
    "new_xgb_preds = new_xgb_model.predict(new_val_X)\n",
    "print(mean_absolute_error(new_val_y, new_xgb_preds))"
   ]
  },
  {
   "cell_type": "code",
   "execution_count": 34,
   "metadata": {},
   "outputs": [
    {
     "data": {
      "image/png": "[encoded data removed]",
      "text/plain": [
       "<Figure size 864x432 with 1 Axes>"
      ]
     },
     "metadata": {},
     "output_type": "display_data"
    }
   ],
   "source": [
    "plotFeatureImportance(new_xgb_model.feature_importances_, new_train_X.columns)"
   ]
  },
  {
   "cell_type": "markdown",
   "metadata": {},
   "source": [
    "## Save/load trained models\n",
    "\n",
    "[Very simple](http://scikit-learn.org/stable/tutorial/basic/tutorial.html#model-persistence)"
   ]
  },
  {
   "cell_type": "code",
   "execution_count": 42,
   "metadata": {},
   "outputs": [
    {
     "name": "stdout",
     "output_type": "stream",
     "text": [
      "204813.3156120896\n"
     ]
    }
   ],
   "source": [
    "import pickle\n",
    "#save\n",
    "savedAsString = pickle.dumps(new_xgb_model)\n",
    "#load\n",
    "loadedModel = pickle.loads(savedAsString)\n",
    "#use\n",
    "predictions = loadedModel.predict(new_val_X)\n",
    "print(mean_absolute_error(new_val_y, predictions))"
   ]
  },
  {
   "cell_type": "code",
   "execution_count": null,
   "metadata": {},
   "outputs": [],
   "source": []
  }
 ],
 "metadata": {
  "kernelspec": {
   "display_name": "ML",
   "language": "python",
   "name": "ml"
  },
  "language_info": {
   "codemirror_mode": {
    "name": "ipython",
    "version": 3
   },
   "file_extension": ".py",
   "mimetype": "text/x-python",
   "name": "python",
   "nbconvert_exporter": "python",
   "pygments_lexer": "ipython3",
   "version": "3.6.3"
  }
 },
 "nbformat": 4,
 "nbformat_minor": 2
}
